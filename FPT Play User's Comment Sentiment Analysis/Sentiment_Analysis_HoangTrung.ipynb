{
 "cells": [
  {
   "cell_type": "code",
   "outputs": [],
   "source": [
    "# conda install pytorch torchvision -c pytorch"
   ],
   "metadata": {
    "collapsed": false,
    "ExecuteTime": {
     "end_time": "2024-04-26T16:26:16.855072700Z",
     "start_time": "2024-04-26T16:26:16.725907Z"
    }
   },
   "id": "3352987c180a8501",
   "execution_count": 11
  },
  {
   "cell_type": "code",
   "execution_count": 1,
   "id": "initial_id",
   "metadata": {
    "collapsed": true,
    "ExecuteTime": {
     "end_time": "2024-04-29T02:35:49.634739200Z",
     "start_time": "2024-04-29T02:35:43.724927500Z"
    }
   },
   "outputs": [],
   "source": [
    "import numpy as np\n",
    "import pandas as pd\n",
    "import torch\n",
    "import re\n",
    "\n",
    "from transformers import AutoModel, AutoTokenizer, RobertaForSequenceClassification"
   ]
  },
  {
   "cell_type": "code",
   "outputs": [
    {
     "name": "stderr",
     "output_type": "stream",
     "text": [
      "C:\\Users\\trung\\AppData\\Local\\Temp\\ipykernel_12428\\4180577708.py:1: DtypeWarning: Columns (13) have mixed types. Specify dtype option on import or set low_memory=False.\n",
      "  df = pd.read_csv(r\"G:\\DA GEN 10\\Level 02\\Class 9 Final Project\\Final Project\\mongodb_comments.csv\")\n"
     ]
    },
    {
     "data": {
      "text/plain": "        Column1                                   _id  ranking  layer  \\\n0             0  {'$oid': '5553269a1a77ce5d65ea0604'}        0      0   \n1             1  {'$oid': '555327621a77ce5d65ea0605'}        0      0   \n2             2  {'$oid': '555357f71a77ce5d65ea0606'}        0      0   \n3             3  {'$oid': '5553f78b1a77ce5d65ea0607'}        0      0   \n4             4  {'$oid': '555412d91a77ce5d65ea0608'}        0      0   \n...         ...                                   ...      ...    ...   \n885164   885164  {'$oid': '629cc3395e052026df2928dd'}        0      0   \n885165   885165  {'$oid': '629e14fe5e052026df2928de'}        0      0   \n885166   885166  {'$oid': '62b9ae385e052026df2928df'}        0      0   \n885167   885167  {'$oid': '62ee7c6e5e052026df2928e0'}        0      0   \n885168   885168  {'$oid': '630e15525e052026df2928e1'}        0      0   \n\n         user_id  like                 user_email comment_on               ip  \\\n0         464817    12              13@fpt.com.vn      event     42.116.8.164   \n1             28     4        lokiheero@gmail.com        vod     42.116.8.164   \n2         424467     1        n_x_cuong@yahoo.com        vod              NaN   \n3           3839     4              xxx@gmail.com        vod     42.116.8.164   \n4         527201     5       cloudytang@gmail.com        vod     42.116.8.164   \n...          ...   ...                        ...        ...              ...   \n885164  19094650     0  120071949710691@gmail.com        NaN  171.251.234.236   \n885165  19094650     0  120071949710691@gmail.com        NaN  171.251.234.181   \n885166  16178367     0  168245951738105@gmail.com        vod   171.239.30.246   \n885167  11866766     0                        NaN        NaN   171.245.27.130   \n885168   6399449     0  847929158732627@gmail.com        NaN   171.236.69.244   \n\n            user_fullname  ...  \\\n0             tuyen tuyen  ...   \n1              Quốc Trung  ...   \n2       nguyen xuan cuong  ...   \n3             xxxxxurruyu  ...   \n4            Đàm Ngọc Vân  ...   \n...                   ...  ...   \n885164       captain_miao  ...   \n885165       captain_miao  ...   \n885166        Nguyễn Phát  ...   \n885167        84347852131  ...   \n885168         Nguyễn Hân  ...   \n\n                                                  content reviewer  \\\n0                                    chuong trinh hay qua  vuluc88   \n1                      hehe không biết chừng nào có tập 6  vuluc88   \n2       lồng tiếng mà như tập đọc, nghe không nuốt nổi...  vuluc88   \n3                                            phim hay qua  vuluc88   \n4                                              hay qua do  vuluc88   \n...                                                   ...      ...   \n885164  Trước trận chưa nghĩ gì nhiều về chiến thắng, ...      NaN   \n885165  đá mấy ngày mới nhớ giải năm nay không có trun...      NaN   \n885166  Ngôi nhà nhất toạ đang thi đấu nhóm 6 người hì...      NaN   \n885167                 phim hay quá,tuyệt vời cảm ơn  fpt      NaN   \n885168           xem tập 10 cứ cà giật mất kết nối hoài ạ      NaN   \n\n       report_count review_status        timestamp       device report_reason  \\\n0                 0             1  5/13/2015 10:32      android            []   \n1                 0             1  5/13/2015 10:35      android            []   \n2                 0             1  5/13/2015 14:02  web-playfpt            []   \n3                 0             1   5/14/2015 1:23      android            []   \n4                 0             1   5/14/2015 3:20      android            []   \n...             ...           ...              ...          ...           ...   \n885164            0             0   6/5/2022 14:56      android            []   \n885165            0             0   6/6/2022 14:58      android            []   \n885166            0             0  6/27/2022 13:23          ios            []   \n885167            0             0   8/6/2022 14:41      android            []   \n885168            0             0  8/30/2022 13:54      android            []   \n\n       dislike comment_status                             device_id  \n0            0              0                      61987be0e1130d02  \n1            0              0                      61987be0e1130d02  \n2            0              0                                   NaN  \n3            0              0                      6e2c0a1180b7268d  \n4            0              0                      983b5151a74de256  \n...        ...            ...                                   ...  \n885164       0              0                      3249da3bf889a14c  \n885165       0              0                      3249da3bf889a14c  \n885166       0              0  CAE4942C-CC4F-4E74-818C-35D36DB0E111  \n885167       0              0                      19f66918cc851e9c  \n885168       0              0                      63dd459d46420e8f  \n\n[885169 rows x 22 columns]",
      "text/html": "<div>\n<style scoped>\n    .dataframe tbody tr th:only-of-type {\n        vertical-align: middle;\n    }\n\n    .dataframe tbody tr th {\n        vertical-align: top;\n    }\n\n    .dataframe thead th {\n        text-align: right;\n    }\n</style>\n<table border=\"1\" class=\"dataframe\">\n  <thead>\n    <tr style=\"text-align: right;\">\n      <th></th>\n      <th>Column1</th>\n      <th>_id</th>\n      <th>ranking</th>\n      <th>layer</th>\n      <th>user_id</th>\n      <th>like</th>\n      <th>user_email</th>\n      <th>comment_on</th>\n      <th>ip</th>\n      <th>user_fullname</th>\n      <th>...</th>\n      <th>content</th>\n      <th>reviewer</th>\n      <th>report_count</th>\n      <th>review_status</th>\n      <th>timestamp</th>\n      <th>device</th>\n      <th>report_reason</th>\n      <th>dislike</th>\n      <th>comment_status</th>\n      <th>device_id</th>\n    </tr>\n  </thead>\n  <tbody>\n    <tr>\n      <th>0</th>\n      <td>0</td>\n      <td>{'$oid': '5553269a1a77ce5d65ea0604'}</td>\n      <td>0</td>\n      <td>0</td>\n      <td>464817</td>\n      <td>12</td>\n      <td>13@fpt.com.vn</td>\n      <td>event</td>\n      <td>42.116.8.164</td>\n      <td>tuyen tuyen</td>\n      <td>...</td>\n      <td>chuong trinh hay qua</td>\n      <td>vuluc88</td>\n      <td>0</td>\n      <td>1</td>\n      <td>5/13/2015 10:32</td>\n      <td>android</td>\n      <td>[]</td>\n      <td>0</td>\n      <td>0</td>\n      <td>61987be0e1130d02</td>\n    </tr>\n    <tr>\n      <th>1</th>\n      <td>1</td>\n      <td>{'$oid': '555327621a77ce5d65ea0605'}</td>\n      <td>0</td>\n      <td>0</td>\n      <td>28</td>\n      <td>4</td>\n      <td>lokiheero@gmail.com</td>\n      <td>vod</td>\n      <td>42.116.8.164</td>\n      <td>Quốc Trung</td>\n      <td>...</td>\n      <td>hehe không biết chừng nào có tập 6</td>\n      <td>vuluc88</td>\n      <td>0</td>\n      <td>1</td>\n      <td>5/13/2015 10:35</td>\n      <td>android</td>\n      <td>[]</td>\n      <td>0</td>\n      <td>0</td>\n      <td>61987be0e1130d02</td>\n    </tr>\n    <tr>\n      <th>2</th>\n      <td>2</td>\n      <td>{'$oid': '555357f71a77ce5d65ea0606'}</td>\n      <td>0</td>\n      <td>0</td>\n      <td>424467</td>\n      <td>1</td>\n      <td>n_x_cuong@yahoo.com</td>\n      <td>vod</td>\n      <td>NaN</td>\n      <td>nguyen xuan cuong</td>\n      <td>...</td>\n      <td>lồng tiếng mà như tập đọc, nghe không nuốt nổi...</td>\n      <td>vuluc88</td>\n      <td>0</td>\n      <td>1</td>\n      <td>5/13/2015 14:02</td>\n      <td>web-playfpt</td>\n      <td>[]</td>\n      <td>0</td>\n      <td>0</td>\n      <td>NaN</td>\n    </tr>\n    <tr>\n      <th>3</th>\n      <td>3</td>\n      <td>{'$oid': '5553f78b1a77ce5d65ea0607'}</td>\n      <td>0</td>\n      <td>0</td>\n      <td>3839</td>\n      <td>4</td>\n      <td>xxx@gmail.com</td>\n      <td>vod</td>\n      <td>42.116.8.164</td>\n      <td>xxxxxurruyu</td>\n      <td>...</td>\n      <td>phim hay qua</td>\n      <td>vuluc88</td>\n      <td>0</td>\n      <td>1</td>\n      <td>5/14/2015 1:23</td>\n      <td>android</td>\n      <td>[]</td>\n      <td>0</td>\n      <td>0</td>\n      <td>6e2c0a1180b7268d</td>\n    </tr>\n    <tr>\n      <th>4</th>\n      <td>4</td>\n      <td>{'$oid': '555412d91a77ce5d65ea0608'}</td>\n      <td>0</td>\n      <td>0</td>\n      <td>527201</td>\n      <td>5</td>\n      <td>cloudytang@gmail.com</td>\n      <td>vod</td>\n      <td>42.116.8.164</td>\n      <td>Đàm Ngọc Vân</td>\n      <td>...</td>\n      <td>hay qua do</td>\n      <td>vuluc88</td>\n      <td>0</td>\n      <td>1</td>\n      <td>5/14/2015 3:20</td>\n      <td>android</td>\n      <td>[]</td>\n      <td>0</td>\n      <td>0</td>\n      <td>983b5151a74de256</td>\n    </tr>\n    <tr>\n      <th>...</th>\n      <td>...</td>\n      <td>...</td>\n      <td>...</td>\n      <td>...</td>\n      <td>...</td>\n      <td>...</td>\n      <td>...</td>\n      <td>...</td>\n      <td>...</td>\n      <td>...</td>\n      <td>...</td>\n      <td>...</td>\n      <td>...</td>\n      <td>...</td>\n      <td>...</td>\n      <td>...</td>\n      <td>...</td>\n      <td>...</td>\n      <td>...</td>\n      <td>...</td>\n      <td>...</td>\n    </tr>\n    <tr>\n      <th>885164</th>\n      <td>885164</td>\n      <td>{'$oid': '629cc3395e052026df2928dd'}</td>\n      <td>0</td>\n      <td>0</td>\n      <td>19094650</td>\n      <td>0</td>\n      <td>120071949710691@gmail.com</td>\n      <td>NaN</td>\n      <td>171.251.234.236</td>\n      <td>captain_miao</td>\n      <td>...</td>\n      <td>Trước trận chưa nghĩ gì nhiều về chiến thắng, ...</td>\n      <td>NaN</td>\n      <td>0</td>\n      <td>0</td>\n      <td>6/5/2022 14:56</td>\n      <td>android</td>\n      <td>[]</td>\n      <td>0</td>\n      <td>0</td>\n      <td>3249da3bf889a14c</td>\n    </tr>\n    <tr>\n      <th>885165</th>\n      <td>885165</td>\n      <td>{'$oid': '629e14fe5e052026df2928de'}</td>\n      <td>0</td>\n      <td>0</td>\n      <td>19094650</td>\n      <td>0</td>\n      <td>120071949710691@gmail.com</td>\n      <td>NaN</td>\n      <td>171.251.234.181</td>\n      <td>captain_miao</td>\n      <td>...</td>\n      <td>đá mấy ngày mới nhớ giải năm nay không có trun...</td>\n      <td>NaN</td>\n      <td>0</td>\n      <td>0</td>\n      <td>6/6/2022 14:58</td>\n      <td>android</td>\n      <td>[]</td>\n      <td>0</td>\n      <td>0</td>\n      <td>3249da3bf889a14c</td>\n    </tr>\n    <tr>\n      <th>885166</th>\n      <td>885166</td>\n      <td>{'$oid': '62b9ae385e052026df2928df'}</td>\n      <td>0</td>\n      <td>0</td>\n      <td>16178367</td>\n      <td>0</td>\n      <td>168245951738105@gmail.com</td>\n      <td>vod</td>\n      <td>171.239.30.246</td>\n      <td>Nguyễn Phát</td>\n      <td>...</td>\n      <td>Ngôi nhà nhất toạ đang thi đấu nhóm 6 người hì...</td>\n      <td>NaN</td>\n      <td>0</td>\n      <td>0</td>\n      <td>6/27/2022 13:23</td>\n      <td>ios</td>\n      <td>[]</td>\n      <td>0</td>\n      <td>0</td>\n      <td>CAE4942C-CC4F-4E74-818C-35D36DB0E111</td>\n    </tr>\n    <tr>\n      <th>885167</th>\n      <td>885167</td>\n      <td>{'$oid': '62ee7c6e5e052026df2928e0'}</td>\n      <td>0</td>\n      <td>0</td>\n      <td>11866766</td>\n      <td>0</td>\n      <td>NaN</td>\n      <td>NaN</td>\n      <td>171.245.27.130</td>\n      <td>84347852131</td>\n      <td>...</td>\n      <td>phim hay quá,tuyệt vời cảm ơn  fpt</td>\n      <td>NaN</td>\n      <td>0</td>\n      <td>0</td>\n      <td>8/6/2022 14:41</td>\n      <td>android</td>\n      <td>[]</td>\n      <td>0</td>\n      <td>0</td>\n      <td>19f66918cc851e9c</td>\n    </tr>\n    <tr>\n      <th>885168</th>\n      <td>885168</td>\n      <td>{'$oid': '630e15525e052026df2928e1'}</td>\n      <td>0</td>\n      <td>0</td>\n      <td>6399449</td>\n      <td>0</td>\n      <td>847929158732627@gmail.com</td>\n      <td>NaN</td>\n      <td>171.236.69.244</td>\n      <td>Nguyễn Hân</td>\n      <td>...</td>\n      <td>xem tập 10 cứ cà giật mất kết nối hoài ạ</td>\n      <td>NaN</td>\n      <td>0</td>\n      <td>0</td>\n      <td>8/30/2022 13:54</td>\n      <td>android</td>\n      <td>[]</td>\n      <td>0</td>\n      <td>0</td>\n      <td>63dd459d46420e8f</td>\n    </tr>\n  </tbody>\n</table>\n<p>885169 rows × 22 columns</p>\n</div>"
     },
     "execution_count": 2,
     "metadata": {},
     "output_type": "execute_result"
    }
   ],
   "source": [
    "df = pd.read_csv(r\"G:\\DA GEN 10\\Level 02\\Class 9 Final Project\\Final Project\\mongodb_comments.csv\")\n",
    "\n",
    "df"
   ],
   "metadata": {
    "collapsed": false,
    "ExecuteTime": {
     "end_time": "2024-04-29T02:35:54.214824700Z",
     "start_time": "2024-04-29T02:35:49.635771100Z"
    }
   },
   "id": "4f5a2bf1ed8f0db6",
   "execution_count": 2
  },
  {
   "cell_type": "code",
   "outputs": [
    {
     "name": "stdout",
     "output_type": "stream",
     "text": [
      "<class 'pandas.core.frame.DataFrame'>\n",
      "RangeIndex: 885169 entries, 0 to 885168\n",
      "Data columns (total 22 columns):\n",
      " #   Column          Non-Null Count   Dtype \n",
      "---  ------          --------------   ----- \n",
      " 0   Column1         885169 non-null  int64 \n",
      " 1   _id             885169 non-null  object\n",
      " 2   ranking         885169 non-null  int64 \n",
      " 3   layer           885169 non-null  int64 \n",
      " 4   user_id         885169 non-null  int64 \n",
      " 5   like            885169 non-null  int64 \n",
      " 6   user_email      685368 non-null  object\n",
      " 7   comment_on      668291 non-null  object\n",
      " 8   ip              861662 non-null  object\n",
      " 9   user_fullname   885161 non-null  object\n",
      " 10  publish_status  885169 non-null  int64 \n",
      " 11  object_id       885169 non-null  object\n",
      " 12  content         885168 non-null  object\n",
      " 13  reviewer        133398 non-null  object\n",
      " 14  report_count    885169 non-null  int64 \n",
      " 15  review_status   885169 non-null  int64 \n",
      " 16  timestamp       885169 non-null  object\n",
      " 17  device          885169 non-null  object\n",
      " 18  report_reason   885169 non-null  object\n",
      " 19  dislike         885169 non-null  int64 \n",
      " 20  comment_status  885169 non-null  int64 \n",
      " 21  device_id       812490 non-null  object\n",
      "dtypes: int64(10), object(12)\n",
      "memory usage: 148.6+ MB\n"
     ]
    }
   ],
   "source": [
    "df.info()"
   ],
   "metadata": {
    "collapsed": false,
    "ExecuteTime": {
     "end_time": "2024-04-29T02:35:54.419247300Z",
     "start_time": "2024-04-29T02:35:54.210525900Z"
    }
   },
   "id": "7ef160d686e89c12",
   "execution_count": 3
  },
  {
   "cell_type": "code",
   "outputs": [],
   "source": [
    "def get_id_text(text):\n",
    "    result = re.findall(r\"\\'\\$oid\\'\\:\\s*\\'([^\\']+)\\'\", text)[0]\n",
    "    \n",
    "    return result"
   ],
   "metadata": {
    "collapsed": false,
    "ExecuteTime": {
     "end_time": "2024-04-26T16:29:53.473595700Z",
     "start_time": "2024-04-26T16:29:53.469538700Z"
    }
   },
   "id": "269bb201688ce2e6",
   "execution_count": 11
  },
  {
   "cell_type": "code",
   "outputs": [
    {
     "data": {
      "text/plain": "0         5553269a1a77ce5d65ea0604\n1         555327621a77ce5d65ea0605\n2         555357f71a77ce5d65ea0606\n3         5553f78b1a77ce5d65ea0607\n4         555412d91a77ce5d65ea0608\n                    ...           \n885164    629cc3395e052026df2928dd\n885165    629e14fe5e052026df2928de\n885166    62b9ae385e052026df2928df\n885167    62ee7c6e5e052026df2928e0\n885168    630e15525e052026df2928e1\nName: _id, Length: 885169, dtype: object"
     },
     "execution_count": 12,
     "metadata": {},
     "output_type": "execute_result"
    }
   ],
   "source": [
    "# Xử lý cột _id\n",
    "df['_id'] = df['_id'].apply(get_id_text)\n",
    "\n",
    "df['_id']"
   ],
   "metadata": {
    "collapsed": false,
    "ExecuteTime": {
     "end_time": "2024-04-26T16:29:54.006920500Z",
     "start_time": "2024-04-26T16:29:53.474606400Z"
    }
   },
   "id": "3fa72b10312c3c0a",
   "execution_count": 12
  },
  {
   "cell_type": "code",
   "outputs": [
    {
     "data": {
      "text/plain": "                             _id   user_id comment_on  \\\n0       5553269a1a77ce5d65ea0604    464817      event   \n1       555327621a77ce5d65ea0605        28        vod   \n2       555357f71a77ce5d65ea0606    424467        vod   \n3       5553f78b1a77ce5d65ea0607      3839        vod   \n4       555412d91a77ce5d65ea0608    527201        vod   \n...                          ...       ...        ...   \n885164  629cc3395e052026df2928dd  19094650        NaN   \n885165  629e14fe5e052026df2928de  19094650        NaN   \n885166  62b9ae385e052026df2928df  16178367        vod   \n885167  62ee7c6e5e052026df2928e0  11866766        NaN   \n885168  630e15525e052026df2928e1   6399449        NaN   \n\n                       object_id  \\\n0       54a53e4817dc131729ede7c8   \n1       552b177417dc135c88d7d6ae   \n2       551a43b417dc135c58f3c691   \n3       55532dea17dc130f3beee9c2   \n4       5453639f17dc1371f538a4cd   \n...                          ...   \n885164  629c7e1d2089bd01c24f5eb9   \n885165  629df0b42089bd00568e03e3   \n885166  5e8aef312089bd088fbb8f72   \n885167  5f951a462089bd06685a7992   \n885168  62d9059ca56934e492dd5ec8   \n\n                                                  content       device  \n0                                    chuong trinh hay qua      android  \n1                      hehe không biết chừng nào có tập 6      android  \n2       lồng tiếng mà như tập đọc, nghe không nuốt nổi...  web-playfpt  \n3                                            phim hay qua      android  \n4                                              hay qua do      android  \n...                                                   ...          ...  \n885164  Trước trận chưa nghĩ gì nhiều về chiến thắng, ...      android  \n885165  đá mấy ngày mới nhớ giải năm nay không có trun...      android  \n885166  Ngôi nhà nhất toạ đang thi đấu nhóm 6 người hì...          ios  \n885167                 phim hay quá,tuyệt vời cảm ơn  fpt      android  \n885168           xem tập 10 cứ cà giật mất kết nối hoài ạ      android  \n\n[885169 rows x 6 columns]",
      "text/html": "<div>\n<style scoped>\n    .dataframe tbody tr th:only-of-type {\n        vertical-align: middle;\n    }\n\n    .dataframe tbody tr th {\n        vertical-align: top;\n    }\n\n    .dataframe thead th {\n        text-align: right;\n    }\n</style>\n<table border=\"1\" class=\"dataframe\">\n  <thead>\n    <tr style=\"text-align: right;\">\n      <th></th>\n      <th>_id</th>\n      <th>user_id</th>\n      <th>comment_on</th>\n      <th>object_id</th>\n      <th>content</th>\n      <th>device</th>\n    </tr>\n  </thead>\n  <tbody>\n    <tr>\n      <th>0</th>\n      <td>5553269a1a77ce5d65ea0604</td>\n      <td>464817</td>\n      <td>event</td>\n      <td>54a53e4817dc131729ede7c8</td>\n      <td>chuong trinh hay qua</td>\n      <td>android</td>\n    </tr>\n    <tr>\n      <th>1</th>\n      <td>555327621a77ce5d65ea0605</td>\n      <td>28</td>\n      <td>vod</td>\n      <td>552b177417dc135c88d7d6ae</td>\n      <td>hehe không biết chừng nào có tập 6</td>\n      <td>android</td>\n    </tr>\n    <tr>\n      <th>2</th>\n      <td>555357f71a77ce5d65ea0606</td>\n      <td>424467</td>\n      <td>vod</td>\n      <td>551a43b417dc135c58f3c691</td>\n      <td>lồng tiếng mà như tập đọc, nghe không nuốt nổi...</td>\n      <td>web-playfpt</td>\n    </tr>\n    <tr>\n      <th>3</th>\n      <td>5553f78b1a77ce5d65ea0607</td>\n      <td>3839</td>\n      <td>vod</td>\n      <td>55532dea17dc130f3beee9c2</td>\n      <td>phim hay qua</td>\n      <td>android</td>\n    </tr>\n    <tr>\n      <th>4</th>\n      <td>555412d91a77ce5d65ea0608</td>\n      <td>527201</td>\n      <td>vod</td>\n      <td>5453639f17dc1371f538a4cd</td>\n      <td>hay qua do</td>\n      <td>android</td>\n    </tr>\n    <tr>\n      <th>...</th>\n      <td>...</td>\n      <td>...</td>\n      <td>...</td>\n      <td>...</td>\n      <td>...</td>\n      <td>...</td>\n    </tr>\n    <tr>\n      <th>885164</th>\n      <td>629cc3395e052026df2928dd</td>\n      <td>19094650</td>\n      <td>NaN</td>\n      <td>629c7e1d2089bd01c24f5eb9</td>\n      <td>Trước trận chưa nghĩ gì nhiều về chiến thắng, ...</td>\n      <td>android</td>\n    </tr>\n    <tr>\n      <th>885165</th>\n      <td>629e14fe5e052026df2928de</td>\n      <td>19094650</td>\n      <td>NaN</td>\n      <td>629df0b42089bd00568e03e3</td>\n      <td>đá mấy ngày mới nhớ giải năm nay không có trun...</td>\n      <td>android</td>\n    </tr>\n    <tr>\n      <th>885166</th>\n      <td>62b9ae385e052026df2928df</td>\n      <td>16178367</td>\n      <td>vod</td>\n      <td>5e8aef312089bd088fbb8f72</td>\n      <td>Ngôi nhà nhất toạ đang thi đấu nhóm 6 người hì...</td>\n      <td>ios</td>\n    </tr>\n    <tr>\n      <th>885167</th>\n      <td>62ee7c6e5e052026df2928e0</td>\n      <td>11866766</td>\n      <td>NaN</td>\n      <td>5f951a462089bd06685a7992</td>\n      <td>phim hay quá,tuyệt vời cảm ơn  fpt</td>\n      <td>android</td>\n    </tr>\n    <tr>\n      <th>885168</th>\n      <td>630e15525e052026df2928e1</td>\n      <td>6399449</td>\n      <td>NaN</td>\n      <td>62d9059ca56934e492dd5ec8</td>\n      <td>xem tập 10 cứ cà giật mất kết nối hoài ạ</td>\n      <td>android</td>\n    </tr>\n  </tbody>\n</table>\n<p>885169 rows × 6 columns</p>\n</div>"
     },
     "execution_count": 14,
     "metadata": {},
     "output_type": "execute_result"
    }
   ],
   "source": [
    "# Chọn ra các cột cần lấy để phân tích\n",
    "df = df[['_id', 'user_id', 'comment_on', 'object_id', 'content', 'device', 'timestamp']]\n",
    "\n",
    "df"
   ],
   "metadata": {
    "collapsed": false,
    "ExecuteTime": {
     "end_time": "2024-04-26T16:31:09.801395Z",
     "start_time": "2024-04-26T16:31:09.758668Z"
    }
   },
   "id": "588194a478e75af",
   "execution_count": 14
  },
  {
   "cell_type": "markdown",
   "source": [
    "## Pre-Process Data"
   ],
   "metadata": {
    "collapsed": false
   },
   "id": "4ad9f62786ce9ef5"
  },
  {
   "cell_type": "code",
   "outputs": [
    {
     "name": "stdout",
     "output_type": "stream",
     "text": [
      "phim quá hay luôn mong từng tập\n"
     ]
    }
   ],
   "source": [
    "test = \"\"\"\n",
    "Phim quá hay luôn...mong từng tập!\n",
    "\"\"\"\n",
    "\n",
    "def standardize_data(row):\n",
    "    # Viết thường toàn bộ\n",
    "    row = row.lower()\n",
    "    \n",
    "    # Xoá tất cả các dấu ?, !, . ở cuối câu\n",
    "    row = re.sub(r'[?!\\.]+\\s*$', '', row)\n",
    "    \n",
    "    # Bỏ đi các dấu khng được cho phép\n",
    "    row = row.replace(\",\", \" \").replace(\".\", \" \") \\\n",
    "        .replace(\";\", \" \").replace(\"“\", \" \") \\\n",
    "        .replace(\":\", \" \").replace(\"”\", \" \") \\\n",
    "        .replace('\"', \" \").replace(\"'\", \" \") \\\n",
    "        .replace(\"!\", \" \").replace(\"?\", \" \") \\\n",
    "        .replace(\"-\", \" \").replace(\"?\", \" \") \\\n",
    "        .replace('\\\\', ' ').replace(')', ' ').replace('(', ' ').replace('@', ' ')\n",
    "    \n",
    "    # Thay thế 1 số từ viết tắt trong tiếng việt\n",
    "    row = re.sub('ko', 'không ', row)\n",
    "    row = re.sub('k ', 'không ', row)\n",
    "    row = re.sub('ad', 'admin ', row)\n",
    "    row = re.sub('[dđ]c', 'được ', row)\n",
    "    row = re.sub('thúi', 'thối ', row)\n",
    "    row = re.sub('chuong trinh', 'chương trình ', row)\n",
    "    row = re.sub('qua', 'quá ', row)\n",
    "    row = re.sub(\"vn\",\"việt nam\", row)\n",
    "    row = re.sub(\"roi\",\"rồi\", row)\n",
    "    \n",
    "    # Loại bỏ các dấu cách thừa\n",
    "    row = re.sub(r'\\s+', ' ', row).strip()\n",
    "    \n",
    "    return row\n",
    "\n",
    "# standardize câu test\n",
    "print(standardize_data(test))"
   ],
   "metadata": {
    "collapsed": false,
    "ExecuteTime": {
     "end_time": "2024-04-26T16:51:03.940771200Z",
     "start_time": "2024-04-26T16:51:03.934740100Z"
    }
   },
   "id": "bdbecf2fabd4741",
   "execution_count": 44
  },
  {
   "cell_type": "code",
   "outputs": [
    {
     "name": "stderr",
     "output_type": "stream",
     "text": [
      "C:\\Users\\trung\\AppData\\Local\\Temp\\ipykernel_2744\\2658490554.py:1: SettingWithCopyWarning: \n",
      "A value is trying to be set on a copy of a slice from a DataFrame.\n",
      "Try using .loc[row_indexer,col_indexer] = value instead\n",
      "\n",
      "See the caveats in the documentation: https://pandas.pydata.org/pandas-docs/stable/user_guide/indexing.html#returning-a-view-versus-a-copy\n",
      "  df['content'] = df['content'].astype(str)\n",
      "C:\\Users\\trung\\AppData\\Local\\Temp\\ipykernel_2744\\2658490554.py:2: SettingWithCopyWarning: \n",
      "A value is trying to be set on a copy of a slice from a DataFrame.\n",
      "Try using .loc[row_indexer,col_indexer] = value instead\n",
      "\n",
      "See the caveats in the documentation: https://pandas.pydata.org/pandas-docs/stable/user_guide/indexing.html#returning-a-view-versus-a-copy\n",
      "  df['content_std'] = df['content'].apply(standardize_data)\n"
     ]
    },
    {
     "data": {
      "text/plain": "                             _id   user_id comment_on  \\\n0       5553269a1a77ce5d65ea0604    464817      event   \n1       555327621a77ce5d65ea0605        28        vod   \n2       555357f71a77ce5d65ea0606    424467        vod   \n3       5553f78b1a77ce5d65ea0607      3839        vod   \n4       555412d91a77ce5d65ea0608    527201        vod   \n...                          ...       ...        ...   \n885164  629cc3395e052026df2928dd  19094650        NaN   \n885165  629e14fe5e052026df2928de  19094650        NaN   \n885166  62b9ae385e052026df2928df  16178367        vod   \n885167  62ee7c6e5e052026df2928e0  11866766        NaN   \n885168  630e15525e052026df2928e1   6399449        NaN   \n\n                       object_id  \\\n0       54a53e4817dc131729ede7c8   \n1       552b177417dc135c88d7d6ae   \n2       551a43b417dc135c58f3c691   \n3       55532dea17dc130f3beee9c2   \n4       5453639f17dc1371f538a4cd   \n...                          ...   \n885164  629c7e1d2089bd01c24f5eb9   \n885165  629df0b42089bd00568e03e3   \n885166  5e8aef312089bd088fbb8f72   \n885167  5f951a462089bd06685a7992   \n885168  62d9059ca56934e492dd5ec8   \n\n                                                  content       device  \\\n0                                    chuong trinh hay qua      android   \n1                      hehe không biết chừng nào có tập 6      android   \n2       lồng tiếng mà như tập đọc, nghe không nuốt nổi...  web-playfpt   \n3                                            phim hay qua      android   \n4                                              hay qua do      android   \n...                                                   ...          ...   \n885164  Trước trận chưa nghĩ gì nhiều về chiến thắng, ...      android   \n885165  đá mấy ngày mới nhớ giải năm nay không có trun...      android   \n885166  Ngôi nhà nhất toạ đang thi đấu nhóm 6 người hì...          ios   \n885167                 phim hay quá,tuyệt vời cảm ơn  fpt      android   \n885168           xem tập 10 cứ cà giật mất kết nối hoài ạ      android   \n\n                                              content_std  \n0                                    chương trình hay quá  \n1                      hehe không biết chừng nào có tập 6  \n2       lồng tiếng mà như tập đọc nghe không nuốt nổi ...  \n3                                            phim hay quá  \n4                                              hay quá do  \n...                                                   ...  \n885164  trước trận chưa nghĩ gì nhiều về chiến thắng k...  \n885165  đá mấy ngày mới nhớ giải năm nay không có trun...  \n885166  ngôi nhà nhất toạ đang thi đấu nhóm 6 người hì...  \n885167                  phim hay quá tuyệt vời cảm ơn fpt  \n885168           xem tập 10 cứ cà giật mất kết nối hoài ạ  \n\n[885169 rows x 7 columns]",
      "text/html": "<div>\n<style scoped>\n    .dataframe tbody tr th:only-of-type {\n        vertical-align: middle;\n    }\n\n    .dataframe tbody tr th {\n        vertical-align: top;\n    }\n\n    .dataframe thead th {\n        text-align: right;\n    }\n</style>\n<table border=\"1\" class=\"dataframe\">\n  <thead>\n    <tr style=\"text-align: right;\">\n      <th></th>\n      <th>_id</th>\n      <th>user_id</th>\n      <th>comment_on</th>\n      <th>object_id</th>\n      <th>content</th>\n      <th>device</th>\n      <th>content_std</th>\n    </tr>\n  </thead>\n  <tbody>\n    <tr>\n      <th>0</th>\n      <td>5553269a1a77ce5d65ea0604</td>\n      <td>464817</td>\n      <td>event</td>\n      <td>54a53e4817dc131729ede7c8</td>\n      <td>chuong trinh hay qua</td>\n      <td>android</td>\n      <td>chương trình hay quá</td>\n    </tr>\n    <tr>\n      <th>1</th>\n      <td>555327621a77ce5d65ea0605</td>\n      <td>28</td>\n      <td>vod</td>\n      <td>552b177417dc135c88d7d6ae</td>\n      <td>hehe không biết chừng nào có tập 6</td>\n      <td>android</td>\n      <td>hehe không biết chừng nào có tập 6</td>\n    </tr>\n    <tr>\n      <th>2</th>\n      <td>555357f71a77ce5d65ea0606</td>\n      <td>424467</td>\n      <td>vod</td>\n      <td>551a43b417dc135c58f3c691</td>\n      <td>lồng tiếng mà như tập đọc, nghe không nuốt nổi...</td>\n      <td>web-playfpt</td>\n      <td>lồng tiếng mà như tập đọc nghe không nuốt nổi ...</td>\n    </tr>\n    <tr>\n      <th>3</th>\n      <td>5553f78b1a77ce5d65ea0607</td>\n      <td>3839</td>\n      <td>vod</td>\n      <td>55532dea17dc130f3beee9c2</td>\n      <td>phim hay qua</td>\n      <td>android</td>\n      <td>phim hay quá</td>\n    </tr>\n    <tr>\n      <th>4</th>\n      <td>555412d91a77ce5d65ea0608</td>\n      <td>527201</td>\n      <td>vod</td>\n      <td>5453639f17dc1371f538a4cd</td>\n      <td>hay qua do</td>\n      <td>android</td>\n      <td>hay quá do</td>\n    </tr>\n    <tr>\n      <th>...</th>\n      <td>...</td>\n      <td>...</td>\n      <td>...</td>\n      <td>...</td>\n      <td>...</td>\n      <td>...</td>\n      <td>...</td>\n    </tr>\n    <tr>\n      <th>885164</th>\n      <td>629cc3395e052026df2928dd</td>\n      <td>19094650</td>\n      <td>NaN</td>\n      <td>629c7e1d2089bd01c24f5eb9</td>\n      <td>Trước trận chưa nghĩ gì nhiều về chiến thắng, ...</td>\n      <td>android</td>\n      <td>trước trận chưa nghĩ gì nhiều về chiến thắng k...</td>\n    </tr>\n    <tr>\n      <th>885165</th>\n      <td>629e14fe5e052026df2928de</td>\n      <td>19094650</td>\n      <td>NaN</td>\n      <td>629df0b42089bd00568e03e3</td>\n      <td>đá mấy ngày mới nhớ giải năm nay không có trun...</td>\n      <td>android</td>\n      <td>đá mấy ngày mới nhớ giải năm nay không có trun...</td>\n    </tr>\n    <tr>\n      <th>885166</th>\n      <td>62b9ae385e052026df2928df</td>\n      <td>16178367</td>\n      <td>vod</td>\n      <td>5e8aef312089bd088fbb8f72</td>\n      <td>Ngôi nhà nhất toạ đang thi đấu nhóm 6 người hì...</td>\n      <td>ios</td>\n      <td>ngôi nhà nhất toạ đang thi đấu nhóm 6 người hì...</td>\n    </tr>\n    <tr>\n      <th>885167</th>\n      <td>62ee7c6e5e052026df2928e0</td>\n      <td>11866766</td>\n      <td>NaN</td>\n      <td>5f951a462089bd06685a7992</td>\n      <td>phim hay quá,tuyệt vời cảm ơn  fpt</td>\n      <td>android</td>\n      <td>phim hay quá tuyệt vời cảm ơn fpt</td>\n    </tr>\n    <tr>\n      <th>885168</th>\n      <td>630e15525e052026df2928e1</td>\n      <td>6399449</td>\n      <td>NaN</td>\n      <td>62d9059ca56934e492dd5ec8</td>\n      <td>xem tập 10 cứ cà giật mất kết nối hoài ạ</td>\n      <td>android</td>\n      <td>xem tập 10 cứ cà giật mất kết nối hoài ạ</td>\n    </tr>\n  </tbody>\n</table>\n<p>885169 rows × 7 columns</p>\n</div>"
     },
     "execution_count": 47,
     "metadata": {},
     "output_type": "execute_result"
    }
   ],
   "source": [
    "# Chuyển cột content về dạng string\n",
    "df['content'] = df['content'].astype(str)\n",
    "\n",
    "# Tiến hành apply hàm standardize_data => sau có thời gian bổ sung sửa thêm các từ viết tắt\n",
    "df['content_std'] = df['content'].apply(standardize_data)\n",
    "\n",
    "df"
   ],
   "metadata": {
    "collapsed": false,
    "ExecuteTime": {
     "end_time": "2024-04-26T16:52:24.606306600Z",
     "start_time": "2024-04-26T16:52:16.756518700Z"
    }
   },
   "id": "f04cb075f9bc4427",
   "execution_count": 47
  },
  {
   "cell_type": "code",
   "outputs": [
    {
     "data": {
      "text/plain": "config.json:   0%|          | 0.00/999 [00:00<?, ?B/s]",
      "application/vnd.jupyter.widget-view+json": {
       "version_major": 2,
       "version_minor": 0,
       "model_id": "2872e5a760fa4dfa9e35edaad343a732"
      }
     },
     "metadata": {},
     "output_type": "display_data"
    },
    {
     "name": "stderr",
     "output_type": "stream",
     "text": [
      "C:\\ProgramData\\anaconda3\\Lib\\site-packages\\huggingface_hub\\file_download.py:148: UserWarning: `huggingface_hub` cache-system uses symlinks by default to efficiently store duplicated files but your machine does not support them in C:\\Users\\trung\\.cache\\huggingface\\hub\\models--wonrax--phobert-base-vietnamese-sentiment. Caching files will still work but in a degraded version that might require more space on your disk. This warning can be disabled by setting the `HF_HUB_DISABLE_SYMLINKS_WARNING` environment variable. For more details, see https://huggingface.co/docs/huggingface_hub/how-to-cache#limitations.\n",
      "To support symlinks on Windows, you either need to activate Developer Mode or to run Python as an administrator. In order to see activate developer mode, see this article: https://docs.microsoft.com/en-us/windows/apps/get-started/enable-your-device-for-development\n",
      "  warnings.warn(message)\n"
     ]
    },
    {
     "data": {
      "text/plain": "pytorch_model.bin:   0%|          | 0.00/540M [00:00<?, ?B/s]",
      "application/vnd.jupyter.widget-view+json": {
       "version_major": 2,
       "version_minor": 0,
       "model_id": "5dfee0b063ca4cb2aa2dc6d6521a8c06"
      }
     },
     "metadata": {},
     "output_type": "display_data"
    },
    {
     "data": {
      "text/plain": "tokenizer_config.json:   0%|          | 0.00/285 [00:00<?, ?B/s]",
      "application/vnd.jupyter.widget-view+json": {
       "version_major": 2,
       "version_minor": 0,
       "model_id": "f8e4b57288914f2787f2bc7551bcbd6a"
      }
     },
     "metadata": {},
     "output_type": "display_data"
    },
    {
     "data": {
      "text/plain": "vocab.txt:   0%|          | 0.00/895k [00:00<?, ?B/s]",
      "application/vnd.jupyter.widget-view+json": {
       "version_major": 2,
       "version_minor": 0,
       "model_id": "9acf7dd605df45238091b178788f51a0"
      }
     },
     "metadata": {},
     "output_type": "display_data"
    },
    {
     "data": {
      "text/plain": "bpe.codes:   0%|          | 0.00/1.14M [00:00<?, ?B/s]",
      "application/vnd.jupyter.widget-view+json": {
       "version_major": 2,
       "version_minor": 0,
       "model_id": "c8750c5aed4a4a1e94111a3f841eb87c"
      }
     },
     "metadata": {},
     "output_type": "display_data"
    },
    {
     "data": {
      "text/plain": "added_tokens.json:   0%|          | 0.00/17.0 [00:00<?, ?B/s]",
      "application/vnd.jupyter.widget-view+json": {
       "version_major": 2,
       "version_minor": 0,
       "model_id": "ca23d892cae74213be564ab2de97c75c"
      }
     },
     "metadata": {},
     "output_type": "display_data"
    },
    {
     "data": {
      "text/plain": "special_tokens_map.json:   0%|          | 0.00/150 [00:00<?, ?B/s]",
      "application/vnd.jupyter.widget-view+json": {
       "version_major": 2,
       "version_minor": 0,
       "model_id": "146ecca5d30f4fa284fd41c1eac9d16a"
      }
     },
     "metadata": {},
     "output_type": "display_data"
    }
   ],
   "source": [
    "# load pre trained model\n",
    "model = RobertaForSequenceClassification.from_pretrained(\"wonrax/phobert-base-vietnamese-sentiment\")\n",
    "\n",
    "# load Tokenizer từ model (dùng để tách từ trong câu)\n",
    "tokenizer = AutoTokenizer.from_pretrained(\"wonrax/phobert-base-vietnamese-sentiment\", use_fast=False)"
   ],
   "metadata": {
    "collapsed": false,
    "ExecuteTime": {
     "end_time": "2024-04-26T16:54:28.377706800Z",
     "start_time": "2024-04-26T16:53:56.432588200Z"
    }
   },
   "id": "d020765cc4767b5b",
   "execution_count": 48
  },
  {
   "cell_type": "code",
   "outputs": [
    {
     "name": "stdout",
     "output_type": "stream",
     "text": [
      "NEG    0.021827\n",
      "POS    0.216084\n",
      "NEU    0.762088\n",
      "dtype: float64\n"
     ]
    }
   ],
   "source": [
    "# test câu\n",
    "sentence = 'cũng được'\n",
    "\n",
    "# tách câu thành list từng từ\n",
    "input_ids = torch.tensor([tokenizer.encode(sentence)])\n",
    "\n",
    "with torch.no_grad():\n",
    "    out = model(input_ids)\n",
    "    # predict output bằng pretrained model\n",
    "    out = pd.Series(out.logits.softmax(dim=-1).tolist()[0], index= ['NEG', 'POS', 'NEU'])\n",
    "    print(out)"
   ],
   "metadata": {
    "collapsed": false,
    "ExecuteTime": {
     "end_time": "2024-04-26T16:55:21.095064200Z",
     "start_time": "2024-04-26T16:55:20.493156600Z"
    }
   },
   "id": "791fbc79850bca6",
   "execution_count": 49
  },
  {
   "cell_type": "code",
   "outputs": [
    {
     "name": "stdout",
     "output_type": "stream",
     "text": [
      "2\n"
     ]
    }
   ],
   "source": [
    "# hàm để đánh giá từng comment. 0 là tiêu cực, 1 là tích cực, 2 là trung tính hoặc ko thể xác định\n",
    "def sentiment(sentence):\n",
    "    try:\n",
    "        input_ids = torch.tensor([tokenizer.encode(sentence)])\n",
    "    except:\n",
    "        return 2\n",
    "\n",
    "    if input_ids.shape[1] > tokenizer.model_max_length:\n",
    "        return 2\n",
    "\n",
    "    with torch.no_grad():\n",
    "        out = model(input_ids)\n",
    "        return np.argmax(out.logits.softmax(dim=-1).tolist()[0])\n",
    "\n",
    "print(sentiment(sentence))"
   ],
   "metadata": {
    "collapsed": false,
    "ExecuteTime": {
     "end_time": "2024-04-26T16:57:52.489587200Z",
     "start_time": "2024-04-26T16:57:52.454001300Z"
    }
   },
   "id": "86cc337110620262",
   "execution_count": 51
  },
  {
   "cell_type": "code",
   "outputs": [
    {
     "name": "stderr",
     "output_type": "stream",
     "text": [
      "Token indices sequence length is longer than the specified maximum sequence length for this model (512 > 256). Running this sequence through the model will result in indexing errors\n",
      "C:\\Users\\trung\\AppData\\Local\\Temp\\ipykernel_2744\\429778057.py:8: SettingWithCopyWarning: \n",
      "A value is trying to be set on a copy of a slice from a DataFrame.\n",
      "Try using .loc[row_indexer,col_indexer] = value instead\n",
      "\n",
      "See the caveats in the documentation: https://pandas.pydata.org/pandas-docs/stable/user_guide/indexing.html#returning-a-view-versus-a-copy\n",
      "  test['sentiment'] = test['content_std'].apply(sentiment)\n"
     ]
    },
    {
     "data": {
      "text/plain": "                          _id  user_id comment_on                 object_id  \\\n0    5553269a1a77ce5d65ea0604   464817      event  54a53e4817dc131729ede7c8   \n1    555327621a77ce5d65ea0605       28        vod  552b177417dc135c88d7d6ae   \n2    555357f71a77ce5d65ea0606   424467        vod  551a43b417dc135c58f3c691   \n3    5553f78b1a77ce5d65ea0607     3839        vod  55532dea17dc130f3beee9c2   \n4    555412d91a77ce5d65ea0608   527201        vod  5453639f17dc1371f538a4cd   \n..                        ...      ...        ...                       ...   \n994  55632d3f1a77ce110a495deb   551293        vod  5549cace17dc132a0cee1801   \n995  556330541a77ce110a495dec   551316        vod  552b25d217dc135c8ad7d710   \n996  556335841a77ce110a495ded   256139        vod  552b25d217dc135c8ad7d710   \n997  556337371a77ce110a495dee   415657        vod  5552f32517dc130c630e67c9   \n998  556337c31a77ce110a495def    28864        vod  5559a5e417dc13323d89fa00   \n\n                                               content       device  \\\n0                                 chuong trinh hay qua      android   \n1                   hehe không biết chừng nào có tập 6      android   \n2    lồng tiếng mà như tập đọc, nghe không nuốt nổi...  web-playfpt   \n3                                         phim hay qua      android   \n4                                           hay qua do      android   \n..                                                 ...          ...   \n994                  có thuyết minh luôn, ủng hộ nhiều  web-playfpt   \n995  tập 16 bị nhầm sub của phim cặp đôi ngoại cảm ...      android   \n996                          Tập 16 bị nhầm sub rùi @@  web-playfpt   \n997                                      おいし…私輪　べｊれでえわ  web-playfpt   \n998                                cũng hay lắm ..hihi      android   \n\n                                           content_std  sentiment  \n0                                 chương trình hay quá          1  \n1                   hehe không biết chừng nào có tập 6          1  \n2    lồng tiếng mà như tập đọc nghe không nuốt nổi ...          0  \n3                                         phim hay quá          1  \n4                                           hay quá do          0  \n..                                                 ...        ...  \n994                   có thuyết minh luôn ủng hộ nhiều          1  \n995  tập 16 bị nhầm sub của phim cặp đôi ngoại cảm ...          2  \n996                             tập 16 bị nhầm sub rùi          0  \n997                                      おいし…私輪 べｊれでえわ          1  \n998                                  cũng hay lắm hihi          1  \n\n[999 rows x 8 columns]",
      "text/html": "<div>\n<style scoped>\n    .dataframe tbody tr th:only-of-type {\n        vertical-align: middle;\n    }\n\n    .dataframe tbody tr th {\n        vertical-align: top;\n    }\n\n    .dataframe thead th {\n        text-align: right;\n    }\n</style>\n<table border=\"1\" class=\"dataframe\">\n  <thead>\n    <tr style=\"text-align: right;\">\n      <th></th>\n      <th>_id</th>\n      <th>user_id</th>\n      <th>comment_on</th>\n      <th>object_id</th>\n      <th>content</th>\n      <th>device</th>\n      <th>content_std</th>\n      <th>sentiment</th>\n    </tr>\n  </thead>\n  <tbody>\n    <tr>\n      <th>0</th>\n      <td>5553269a1a77ce5d65ea0604</td>\n      <td>464817</td>\n      <td>event</td>\n      <td>54a53e4817dc131729ede7c8</td>\n      <td>chuong trinh hay qua</td>\n      <td>android</td>\n      <td>chương trình hay quá</td>\n      <td>1</td>\n    </tr>\n    <tr>\n      <th>1</th>\n      <td>555327621a77ce5d65ea0605</td>\n      <td>28</td>\n      <td>vod</td>\n      <td>552b177417dc135c88d7d6ae</td>\n      <td>hehe không biết chừng nào có tập 6</td>\n      <td>android</td>\n      <td>hehe không biết chừng nào có tập 6</td>\n      <td>1</td>\n    </tr>\n    <tr>\n      <th>2</th>\n      <td>555357f71a77ce5d65ea0606</td>\n      <td>424467</td>\n      <td>vod</td>\n      <td>551a43b417dc135c58f3c691</td>\n      <td>lồng tiếng mà như tập đọc, nghe không nuốt nổi...</td>\n      <td>web-playfpt</td>\n      <td>lồng tiếng mà như tập đọc nghe không nuốt nổi ...</td>\n      <td>0</td>\n    </tr>\n    <tr>\n      <th>3</th>\n      <td>5553f78b1a77ce5d65ea0607</td>\n      <td>3839</td>\n      <td>vod</td>\n      <td>55532dea17dc130f3beee9c2</td>\n      <td>phim hay qua</td>\n      <td>android</td>\n      <td>phim hay quá</td>\n      <td>1</td>\n    </tr>\n    <tr>\n      <th>4</th>\n      <td>555412d91a77ce5d65ea0608</td>\n      <td>527201</td>\n      <td>vod</td>\n      <td>5453639f17dc1371f538a4cd</td>\n      <td>hay qua do</td>\n      <td>android</td>\n      <td>hay quá do</td>\n      <td>0</td>\n    </tr>\n    <tr>\n      <th>...</th>\n      <td>...</td>\n      <td>...</td>\n      <td>...</td>\n      <td>...</td>\n      <td>...</td>\n      <td>...</td>\n      <td>...</td>\n      <td>...</td>\n    </tr>\n    <tr>\n      <th>994</th>\n      <td>55632d3f1a77ce110a495deb</td>\n      <td>551293</td>\n      <td>vod</td>\n      <td>5549cace17dc132a0cee1801</td>\n      <td>có thuyết minh luôn, ủng hộ nhiều</td>\n      <td>web-playfpt</td>\n      <td>có thuyết minh luôn ủng hộ nhiều</td>\n      <td>1</td>\n    </tr>\n    <tr>\n      <th>995</th>\n      <td>556330541a77ce110a495dec</td>\n      <td>551316</td>\n      <td>vod</td>\n      <td>552b25d217dc135c8ad7d710</td>\n      <td>tập 16 bị nhầm sub của phim cặp đôi ngoại cảm ...</td>\n      <td>android</td>\n      <td>tập 16 bị nhầm sub của phim cặp đôi ngoại cảm ...</td>\n      <td>2</td>\n    </tr>\n    <tr>\n      <th>996</th>\n      <td>556335841a77ce110a495ded</td>\n      <td>256139</td>\n      <td>vod</td>\n      <td>552b25d217dc135c8ad7d710</td>\n      <td>Tập 16 bị nhầm sub rùi @@</td>\n      <td>web-playfpt</td>\n      <td>tập 16 bị nhầm sub rùi</td>\n      <td>0</td>\n    </tr>\n    <tr>\n      <th>997</th>\n      <td>556337371a77ce110a495dee</td>\n      <td>415657</td>\n      <td>vod</td>\n      <td>5552f32517dc130c630e67c9</td>\n      <td>おいし…私輪　べｊれでえわ</td>\n      <td>web-playfpt</td>\n      <td>おいし…私輪 べｊれでえわ</td>\n      <td>1</td>\n    </tr>\n    <tr>\n      <th>998</th>\n      <td>556337c31a77ce110a495def</td>\n      <td>28864</td>\n      <td>vod</td>\n      <td>5559a5e417dc13323d89fa00</td>\n      <td>cũng hay lắm ..hihi</td>\n      <td>android</td>\n      <td>cũng hay lắm hihi</td>\n      <td>1</td>\n    </tr>\n  </tbody>\n</table>\n<p>999 rows × 8 columns</p>\n</div>"
     },
     "execution_count": 52,
     "metadata": {},
     "output_type": "execute_result"
    }
   ],
   "source": [
    "# kiểm tra xem mô hình chạy bao thời gian\n",
    "import time\n",
    "\n",
    "start_time = time.time()\n",
    "\n",
    "test = df[:999]\n",
    "\n",
    "test['sentiment'] = test['content_std'].apply(sentiment)\n",
    "\n",
    "test"
   ],
   "metadata": {
    "collapsed": false,
    "ExecuteTime": {
     "end_time": "2024-04-26T16:59:40.174635100Z",
     "start_time": "2024-04-26T16:59:11.804167600Z"
    }
   },
   "id": "4c3834a7ccc10461",
   "execution_count": 52
  },
  {
   "cell_type": "code",
   "outputs": [
    {
     "name": "stderr",
     "output_type": "stream",
     "text": [
      "C:\\Users\\trung\\AppData\\Local\\Temp\\ipykernel_2744\\2130790290.py:2: SettingWithCopyWarning: \n",
      "A value is trying to be set on a copy of a slice from a DataFrame.\n",
      "Try using .loc[row_indexer,col_indexer] = value instead\n",
      "\n",
      "See the caveats in the documentation: https://pandas.pydata.org/pandas-docs/stable/user_guide/indexing.html#returning-a-view-versus-a-copy\n",
      "  df['sentiment'] = df['content_std'].apply(sentiment)\n"
     ]
    },
    {
     "data": {
      "text/plain": "                             _id   user_id comment_on  \\\n0       5553269a1a77ce5d65ea0604    464817      event   \n1       555327621a77ce5d65ea0605        28        vod   \n2       555357f71a77ce5d65ea0606    424467        vod   \n3       5553f78b1a77ce5d65ea0607      3839        vod   \n4       555412d91a77ce5d65ea0608    527201        vod   \n...                          ...       ...        ...   \n885164  629cc3395e052026df2928dd  19094650        NaN   \n885165  629e14fe5e052026df2928de  19094650        NaN   \n885166  62b9ae385e052026df2928df  16178367        vod   \n885167  62ee7c6e5e052026df2928e0  11866766        NaN   \n885168  630e15525e052026df2928e1   6399449        NaN   \n\n                       object_id  \\\n0       54a53e4817dc131729ede7c8   \n1       552b177417dc135c88d7d6ae   \n2       551a43b417dc135c58f3c691   \n3       55532dea17dc130f3beee9c2   \n4       5453639f17dc1371f538a4cd   \n...                          ...   \n885164  629c7e1d2089bd01c24f5eb9   \n885165  629df0b42089bd00568e03e3   \n885166  5e8aef312089bd088fbb8f72   \n885167  5f951a462089bd06685a7992   \n885168  62d9059ca56934e492dd5ec8   \n\n                                                  content       device  \\\n0                                    chuong trinh hay qua      android   \n1                      hehe không biết chừng nào có tập 6      android   \n2       lồng tiếng mà như tập đọc, nghe không nuốt nổi...  web-playfpt   \n3                                            phim hay qua      android   \n4                                              hay qua do      android   \n...                                                   ...          ...   \n885164  Trước trận chưa nghĩ gì nhiều về chiến thắng, ...      android   \n885165  đá mấy ngày mới nhớ giải năm nay không có trun...      android   \n885166  Ngôi nhà nhất toạ đang thi đấu nhóm 6 người hì...          ios   \n885167                 phim hay quá,tuyệt vời cảm ơn  fpt      android   \n885168           xem tập 10 cứ cà giật mất kết nối hoài ạ      android   \n\n                                              content_std  sentiment  \n0                                    chương trình hay quá          1  \n1                      hehe không biết chừng nào có tập 6          1  \n2       lồng tiếng mà như tập đọc nghe không nuốt nổi ...          0  \n3                                            phim hay quá          1  \n4                                              hay quá do          0  \n...                                                   ...        ...  \n885164  trước trận chưa nghĩ gì nhiều về chiến thắng k...          1  \n885165  đá mấy ngày mới nhớ giải năm nay không có trun...          0  \n885166  ngôi nhà nhất toạ đang thi đấu nhóm 6 người hì...          1  \n885167                  phim hay quá tuyệt vời cảm ơn fpt          1  \n885168           xem tập 10 cứ cà giật mất kết nối hoài ạ          0  \n\n[885169 rows x 8 columns]",
      "text/html": "<div>\n<style scoped>\n    .dataframe tbody tr th:only-of-type {\n        vertical-align: middle;\n    }\n\n    .dataframe tbody tr th {\n        vertical-align: top;\n    }\n\n    .dataframe thead th {\n        text-align: right;\n    }\n</style>\n<table border=\"1\" class=\"dataframe\">\n  <thead>\n    <tr style=\"text-align: right;\">\n      <th></th>\n      <th>_id</th>\n      <th>user_id</th>\n      <th>comment_on</th>\n      <th>object_id</th>\n      <th>content</th>\n      <th>device</th>\n      <th>content_std</th>\n      <th>sentiment</th>\n    </tr>\n  </thead>\n  <tbody>\n    <tr>\n      <th>0</th>\n      <td>5553269a1a77ce5d65ea0604</td>\n      <td>464817</td>\n      <td>event</td>\n      <td>54a53e4817dc131729ede7c8</td>\n      <td>chuong trinh hay qua</td>\n      <td>android</td>\n      <td>chương trình hay quá</td>\n      <td>1</td>\n    </tr>\n    <tr>\n      <th>1</th>\n      <td>555327621a77ce5d65ea0605</td>\n      <td>28</td>\n      <td>vod</td>\n      <td>552b177417dc135c88d7d6ae</td>\n      <td>hehe không biết chừng nào có tập 6</td>\n      <td>android</td>\n      <td>hehe không biết chừng nào có tập 6</td>\n      <td>1</td>\n    </tr>\n    <tr>\n      <th>2</th>\n      <td>555357f71a77ce5d65ea0606</td>\n      <td>424467</td>\n      <td>vod</td>\n      <td>551a43b417dc135c58f3c691</td>\n      <td>lồng tiếng mà như tập đọc, nghe không nuốt nổi...</td>\n      <td>web-playfpt</td>\n      <td>lồng tiếng mà như tập đọc nghe không nuốt nổi ...</td>\n      <td>0</td>\n    </tr>\n    <tr>\n      <th>3</th>\n      <td>5553f78b1a77ce5d65ea0607</td>\n      <td>3839</td>\n      <td>vod</td>\n      <td>55532dea17dc130f3beee9c2</td>\n      <td>phim hay qua</td>\n      <td>android</td>\n      <td>phim hay quá</td>\n      <td>1</td>\n    </tr>\n    <tr>\n      <th>4</th>\n      <td>555412d91a77ce5d65ea0608</td>\n      <td>527201</td>\n      <td>vod</td>\n      <td>5453639f17dc1371f538a4cd</td>\n      <td>hay qua do</td>\n      <td>android</td>\n      <td>hay quá do</td>\n      <td>0</td>\n    </tr>\n    <tr>\n      <th>...</th>\n      <td>...</td>\n      <td>...</td>\n      <td>...</td>\n      <td>...</td>\n      <td>...</td>\n      <td>...</td>\n      <td>...</td>\n      <td>...</td>\n    </tr>\n    <tr>\n      <th>885164</th>\n      <td>629cc3395e052026df2928dd</td>\n      <td>19094650</td>\n      <td>NaN</td>\n      <td>629c7e1d2089bd01c24f5eb9</td>\n      <td>Trước trận chưa nghĩ gì nhiều về chiến thắng, ...</td>\n      <td>android</td>\n      <td>trước trận chưa nghĩ gì nhiều về chiến thắng k...</td>\n      <td>1</td>\n    </tr>\n    <tr>\n      <th>885165</th>\n      <td>629e14fe5e052026df2928de</td>\n      <td>19094650</td>\n      <td>NaN</td>\n      <td>629df0b42089bd00568e03e3</td>\n      <td>đá mấy ngày mới nhớ giải năm nay không có trun...</td>\n      <td>android</td>\n      <td>đá mấy ngày mới nhớ giải năm nay không có trun...</td>\n      <td>0</td>\n    </tr>\n    <tr>\n      <th>885166</th>\n      <td>62b9ae385e052026df2928df</td>\n      <td>16178367</td>\n      <td>vod</td>\n      <td>5e8aef312089bd088fbb8f72</td>\n      <td>Ngôi nhà nhất toạ đang thi đấu nhóm 6 người hì...</td>\n      <td>ios</td>\n      <td>ngôi nhà nhất toạ đang thi đấu nhóm 6 người hì...</td>\n      <td>1</td>\n    </tr>\n    <tr>\n      <th>885167</th>\n      <td>62ee7c6e5e052026df2928e0</td>\n      <td>11866766</td>\n      <td>NaN</td>\n      <td>5f951a462089bd06685a7992</td>\n      <td>phim hay quá,tuyệt vời cảm ơn  fpt</td>\n      <td>android</td>\n      <td>phim hay quá tuyệt vời cảm ơn fpt</td>\n      <td>1</td>\n    </tr>\n    <tr>\n      <th>885168</th>\n      <td>630e15525e052026df2928e1</td>\n      <td>6399449</td>\n      <td>NaN</td>\n      <td>62d9059ca56934e492dd5ec8</td>\n      <td>xem tập 10 cứ cà giật mất kết nối hoài ạ</td>\n      <td>android</td>\n      <td>xem tập 10 cứ cà giật mất kết nối hoài ạ</td>\n      <td>0</td>\n    </tr>\n  </tbody>\n</table>\n<p>885169 rows × 8 columns</p>\n</div>"
     },
     "execution_count": 53,
     "metadata": {},
     "output_type": "execute_result"
    }
   ],
   "source": [
    "# chạy thật và tính ra sentiment\n",
    "df['sentiment'] = df['content_std'].apply(sentiment)\n",
    "\n",
    "df"
   ],
   "metadata": {
    "collapsed": false,
    "ExecuteTime": {
     "end_time": "2024-04-26T23:20:15.451896900Z",
     "start_time": "2024-04-26T17:00:32.933831Z"
    }
   },
   "id": "8bc163e22631d0ca",
   "execution_count": 53
  },
  {
   "cell_type": "code",
   "outputs": [],
   "source": [
    "df.to_csv(r'G:\\DA GEN 10\\Level 02\\Class 9 Final Project\\Final Project\\Sentiment_Result.csv', index=False, encoding='utf-8')"
   ],
   "metadata": {
    "collapsed": false,
    "ExecuteTime": {
     "end_time": "2024-04-27T00:12:37.787959900Z",
     "start_time": "2024-04-27T00:12:34.681838500Z"
    }
   },
   "id": "3688566ff04fa378",
   "execution_count": 55
  }
 ],
 "metadata": {
  "kernelspec": {
   "display_name": "Python 3",
   "language": "python",
   "name": "python3"
  },
  "language_info": {
   "codemirror_mode": {
    "name": "ipython",
    "version": 2
   },
   "file_extension": ".py",
   "mimetype": "text/x-python",
   "name": "python",
   "nbconvert_exporter": "python",
   "pygments_lexer": "ipython2",
   "version": "2.7.6"
  }
 },
 "nbformat": 4,
 "nbformat_minor": 5
}
