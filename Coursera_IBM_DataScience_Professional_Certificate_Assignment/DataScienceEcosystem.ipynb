{
 "cells": [
  {
   "cell_type": "markdown",
   "id": "6fa6ea3688f648ce",
   "metadata": {
    "collapsed": false
   },
   "source": [
    "# Data Science Tools and Ecosystem"
   ]
  },
  {
   "cell_type": "markdown",
   "id": "9d1d08a1db589001",
   "metadata": {
    "collapsed": false
   },
   "source": [
    "In this notebook, Data Science Tools and Ecosystem are summarized."
   ]
  },
  {
   "cell_type": "markdown",
   "id": "db85d36b895a5094",
   "metadata": {
    "collapsed": false
   },
   "source": [
    "Some of the popular languages that Data Scientists use are:\n",
    "- Python\n",
    "- R\n",
    "- SQL"
   ]
  },
  {
   "cell_type": "markdown",
   "id": "1b721a145771a191",
   "metadata": {
    "collapsed": false
   },
   "source": [
    "Some of the commonly used libraries used by Data Scientists include:\n",
    "- Pandas\n",
    "- Numpy\n",
    "- Maplotlib"
   ]
  },
  {
   "cell_type": "markdown",
   "id": "c21b326f2205e006",
   "metadata": {
    "collapsed": false
   },
   "source": [
    "| Data Science Tools |\n",
    "|--------------------|\n",
    "| Jupyter Notebook   |\n",
    "| RStudio            |\n",
    "| Apache Zeppelin    |"
   ]
  },
  {
   "cell_type": "markdown",
   "id": "f10dc527fe04468e",
   "metadata": {
    "collapsed": false
   },
   "source": [
    "### Below are a few examples of evaluating arithmetic expressions in Python"
   ]
  },
  {
   "cell_type": "code",
   "execution_count": 1,
   "id": "681b1dd5db3a4f02",
   "metadata": {
    "ExecuteTime": {
     "end_time": "2024-05-09T06:06:17.420081300Z",
     "start_time": "2024-05-09T06:06:17.410723400Z"
    },
    "collapsed": false
   },
   "outputs": [
    {
     "data": {
      "text/plain": [
       "17"
      ]
     },
     "execution_count": 1,
     "metadata": {},
     "output_type": "execute_result"
    }
   ],
   "source": [
    "# This a simple arithmetic expression to mutiply then add integers\n",
    "(3*4)+5"
   ]
  },
  {
   "cell_type": "code",
   "execution_count": 2,
   "id": "a0f645bbb62b0784",
   "metadata": {
    "ExecuteTime": {
     "end_time": "2024-05-09T06:06:49.379645200Z",
     "start_time": "2024-05-09T06:06:49.374169800Z"
    },
    "collapsed": false
   },
   "outputs": [
    {
     "data": {
      "text/plain": [
       "3.3333333333333335"
      ]
     },
     "execution_count": 2,
     "metadata": {},
     "output_type": "execute_result"
    }
   ],
   "source": [
    "# This will convert 200 minutes to hours by diving by 60\n",
    "200 / 60"
   ]
  },
  {
   "cell_type": "markdown",
   "id": "8c87addcdf130ff8",
   "metadata": {
    "collapsed": false
   },
   "source": [
    "**Objectives:**\n",
    "\n",
    "- List popular languages for Data Science.\n",
    "- Introduce commonly used open source tools for Data Science.\n",
    "- Convert minutes to hours using Python expressions."
   ]
  },
  {
   "cell_type": "markdown",
   "id": "a78343fdea985cc3",
   "metadata": {
    "collapsed": false
   },
   "source": [
    "## Author\n",
    "Hoang Trung"
   ]
  }
 ],
 "metadata": {
  "kernelspec": {
   "display_name": "Python 3",
   "language": "python",
   "name": "python3"
  },
  "language_info": {
   "codemirror_mode": {
    "name": "ipython",
    "version": 2
   },
   "file_extension": ".py",
   "mimetype": "text/x-python",
   "name": "python",
   "nbconvert_exporter": "python",
   "pygments_lexer": "ipython2",
   "version": "2.7.6"
  }
 },
 "nbformat": 4,
 "nbformat_minor": 5
}
